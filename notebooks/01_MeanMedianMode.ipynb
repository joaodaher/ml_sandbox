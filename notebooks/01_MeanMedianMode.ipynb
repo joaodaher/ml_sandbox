{
 "cells": [
  {
   "cell_type": "markdown",
   "metadata": {},
   "source": [
    "# Mean, Median, Mode, and introducing NumPy"
   ]
  },
  {
   "cell_type": "markdown",
   "metadata": {},
   "source": [
    "## Mean vs. Median"
   ]
  },
  {
   "cell_type": "markdown",
   "metadata": {},
   "source": [
    "Let's create some fake income data, centered around 27,000 with a normal distribution and standard deviation of 15,000, with 10,000 data points. (We'll discuss those terms more later, if you're not familiar with them.)\n",
    "\n",
    "Then, compute the mean (average) - it should be close to 27,000:"
   ]
  },
  {
   "cell_type": "code",
   "execution_count": 3,
   "metadata": {
    "collapsed": false
   },
   "outputs": [
    {
     "data": {
      "text/plain": [
       "26975.124420174951"
      ]
     },
     "execution_count": 3,
     "metadata": {},
     "output_type": "execute_result"
    }
   ],
   "source": [
    "import numpy as np\n",
    "\n",
    "incomes = np.random.normal(27000, 15000, 10000)\n",
    "np.mean(incomes)"
   ]
  },
  {
   "cell_type": "markdown",
   "metadata": {},
   "source": [
    "We can segment the income data into 50 buckets, and plot it as a histogram:"
   ]
  },
  {
   "cell_type": "code",
   "execution_count": 4,
   "metadata": {
    "collapsed": false
   },
   "outputs": [
    {
     "data": {
      "image/png": "[encoded data removed]",
      "text/plain": [
       "<matplotlib.figure.Figure at 0x109acf0b8>"
      ]
     },
     "metadata": {},
     "output_type": "display_data"
    }
   ],
   "source": [
    "%matplotlib inline\n",
    "import matplotlib.pyplot as plt\n",
    "plt.hist(incomes, 50)\n",
    "plt.show()"
   ]
  },
  {
   "cell_type": "markdown",
   "metadata": {},
   "source": [
    "Now compute the median - since we have a nice, even distribution it too should be close to 27,000:"
   ]
  },
  {
   "cell_type": "code",
   "execution_count": 5,
   "metadata": {
    "collapsed": false
   },
   "outputs": [
    {
     "data": {
      "text/plain": [
       "26946.902621639194"
      ]
     },
     "execution_count": 5,
     "metadata": {},
     "output_type": "execute_result"
    }
   ],
   "source": [
    "np.median(incomes)"
   ]
  },
  {
   "cell_type": "markdown",
   "metadata": {},
   "source": [
    "Now we'll add Donald Trump into the mix. Darn income inequality!"
   ]
  },
  {
   "cell_type": "code",
   "execution_count": 6,
   "metadata": {
    "collapsed": false
   },
   "outputs": [],
   "source": [
    "incomes = np.append(incomes, [1000000000])"
   ]
  },
  {
   "cell_type": "markdown",
   "metadata": {},
   "source": [
    "The median won't change much, but the mean does:"
   ]
  },
  {
   "cell_type": "code",
   "execution_count": 7,
   "metadata": {
    "collapsed": false
   },
   "outputs": [
    {
     "data": {
      "text/plain": [
       "26951.654307160938"
      ]
     },
     "execution_count": 7,
     "metadata": {},
     "output_type": "execute_result"
    }
   ],
   "source": [
    "np.median(incomes)"
   ]
  },
  {
   "cell_type": "code",
   "execution_count": 8,
   "metadata": {
    "collapsed": false
   },
   "outputs": [
    {
     "data": {
      "text/plain": [
       "126962.42817735721"
      ]
     },
     "execution_count": 8,
     "metadata": {},
     "output_type": "execute_result"
    }
   ],
   "source": [
    "np.mean(incomes)"
   ]
  },
  {
   "cell_type": "markdown",
   "metadata": {},
   "source": [
    "## Mode"
   ]
  },
  {
   "cell_type": "markdown",
   "metadata": {},
   "source": [
    "Next, let's generate some fake age data for 500 people:"
   ]
  },
  {
   "cell_type": "code",
   "execution_count": 9,
   "metadata": {
    "collapsed": false
   },
   "outputs": [
    {
     "data": {
      "text/plain": [
       "array([84, 63, 78, 78, 73, 55, 88, 77, 40, 69, 18, 81, 28, 65, 33, 36, 68,\n",
       "       79, 76, 48, 79, 85, 45, 54, 71, 29, 36, 76, 61, 18, 27, 51, 43, 53,\n",
       "       87, 47, 76, 84, 35, 43, 63, 18, 42, 66, 65, 85, 26, 36, 47, 58, 59,\n",
       "       19, 38, 70, 72, 28, 33, 84, 74, 60, 30, 43, 86, 78, 26, 68, 83, 63,\n",
       "       67, 81, 73, 79, 75, 48, 37, 84, 23, 65, 65, 70, 71, 40, 81, 29, 70,\n",
       "       51, 32, 86, 39, 75, 38, 62, 67, 28, 60, 77, 38, 48, 27, 64, 44, 44,\n",
       "       48, 65, 20, 25, 25, 61, 66, 67, 24, 25, 26, 72, 28, 89, 38, 36, 70,\n",
       "       50, 35, 57, 87, 78, 68, 58, 34, 41, 54, 37, 54, 53, 70, 87, 74, 88,\n",
       "       41, 48, 48, 39, 45, 60, 39, 75, 41, 46, 30, 68, 82, 89, 87, 76, 39,\n",
       "       85, 30, 40, 19, 49, 44, 31, 30, 66, 40, 65, 52, 46, 68, 55, 83, 78,\n",
       "       38, 37, 21, 29, 23, 87, 80, 87, 82, 84, 84, 44, 89, 46, 80, 62, 42,\n",
       "       32, 79, 23, 39, 19, 81, 68, 47, 53, 41, 26, 74, 72, 28, 84, 46, 20,\n",
       "       43, 37, 68, 18, 37, 22, 55, 47, 34, 53, 39, 31, 89, 50, 51, 76, 41,\n",
       "       60, 66, 57, 63, 69, 82, 35, 86, 88, 62, 35, 50, 44, 78, 52, 46, 38,\n",
       "       43, 39, 42, 68, 73, 28, 71, 75, 58, 34, 53, 75, 67, 45, 89, 32, 65,\n",
       "       31, 41, 67, 31, 77, 57, 41, 43, 68, 35, 23, 52, 38, 71, 57, 68, 75,\n",
       "       54, 50, 42, 28, 35, 60, 78, 88, 86, 66, 72, 74, 18, 54, 87, 26, 46,\n",
       "       32, 31, 76, 65, 55, 88, 24, 39, 35, 21, 89, 81, 89, 71, 55, 87, 50,\n",
       "       32, 46, 53, 62, 56, 75, 54, 41, 82, 30, 40, 72, 74, 60, 88, 81, 71,\n",
       "       31, 60, 82, 77, 68, 67, 35, 44, 71, 68, 89, 56, 88, 27, 77, 79, 79,\n",
       "       22, 33, 22, 78, 63, 81, 32, 28, 72, 48, 79, 82, 40, 78, 70, 31, 29,\n",
       "       31, 77, 35, 38, 28, 52, 82, 65, 64, 22, 61, 79, 68, 32, 69, 29, 87,\n",
       "       85, 46, 21, 74, 74, 82, 34, 47, 83, 32, 71, 63, 50, 41, 26, 61, 70,\n",
       "       53, 75, 80, 71, 71, 34, 51, 61, 65, 89, 80, 48, 41, 67, 23, 38, 70,\n",
       "       34, 63, 78, 46, 42, 82, 22, 41, 77, 49, 65, 48, 31, 50, 20, 19, 67,\n",
       "       89, 64, 31, 74, 44, 80, 88, 66, 78, 30, 77, 79, 51, 28, 46, 40, 21,\n",
       "       65, 49, 31, 49, 68, 67, 67, 86, 47, 49, 72, 62, 89, 59, 68, 83, 79,\n",
       "       76, 18, 50, 88, 57, 68, 79, 60, 44, 34, 39, 76, 59, 46, 62, 61, 81,\n",
       "       54, 18, 45, 24, 30, 85, 79, 82, 68, 52, 32, 85, 19, 61, 25, 70, 21,\n",
       "       18, 36, 22, 78, 71, 31, 66])"
      ]
     },
     "execution_count": 9,
     "metadata": {},
     "output_type": "execute_result"
    }
   ],
   "source": [
    "ages = np.random.randint(18, high=90, size=500)\n",
    "ages"
   ]
  },
  {
   "cell_type": "code",
   "execution_count": 10,
   "metadata": {
    "collapsed": false
   },
   "outputs": [
    {
     "data": {
      "text/plain": [
       "ModeResult(mode=array([68]), count=array([17]))"
      ]
     },
     "execution_count": 10,
     "metadata": {},
     "output_type": "execute_result"
    }
   ],
   "source": [
    "from scipy import stats\n",
    "stats.mode(ages)"
   ]
  },
  {
   "cell_type": "code",
   "execution_count": null,
   "metadata": {
    "collapsed": false
   },
   "outputs": [],
   "source": []
  },
  {
   "cell_type": "code",
   "execution_count": null,
   "metadata": {
    "collapsed": true
   },
   "outputs": [],
   "source": []
  }
 ],
 "metadata": {
  "kernelspec": {
   "display_name": "Python 3",
   "language": "python",
   "name": "python3"
  },
  "language_info": {
   "codemirror_mode": {
    "name": "ipython",
    "version": 3
   },
   "file_extension": ".py",
   "mimetype": "text/x-python",
   "name": "python",
   "nbconvert_exporter": "python",
   "pygments_lexer": "ipython3",
   "version": "3.6.0"
  }
 },
 "nbformat": 4,
 "nbformat_minor": 0
}
